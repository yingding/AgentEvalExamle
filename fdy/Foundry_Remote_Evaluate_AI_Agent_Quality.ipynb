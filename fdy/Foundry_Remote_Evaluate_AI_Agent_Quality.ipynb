{
 "cells": [
  {
   "cell_type": "markdown",
   "metadata": {},
   "source": [
    "# Evaluate AI agents (Azure AI Agent Service) in Azure AI Foundry"
   ]
  },
  {
   "cell_type": "markdown",
   "metadata": {},
   "source": [
    "## Objective\n",
    "\n",
    "\n",
    "This sample demonstrates how to evaluate an AI agent (Azure AI Agent Service) on these important aspects of your agentic workflow:\n",
    "\n",
    "- Intent Resolution: Measures how well the agent identifies the user’s request, including how well it scopes the user’s intent, asks clarifying questions, and reminds end users of its scope of capabilities.\n",
    "- Tool Call Accuracy: Evaluates the agent's ability to select the appropriate tools, and process correct parameters from previous steps.\n",
    "- Task Adherence: Measures how well the agent’s response adheres to its assigned tasks, according to its system message and prior steps.\n",
    "\n",
    "For AI agents outside of Azure AI Agent Service, you can still provide th agent data in the two formats (either simple data or agent messages) specified in the individual evaluator samples:\n",
    "- [Intent resolution](https://aka.ms/intentresolution-sample)\n",
    "- [Tool call accuracy](https://aka.ms/toolcallaccuracy-sample)\n",
    "- [Task adherence](https://aka.ms/taskadherence-sample)\n",
    "- [Response Completeness](https://aka.ms/rescompleteness-sample)\n",
    "\n",
    "\n",
    "\n",
    "## Time \n",
    "\n",
    "You should expect to spend about 20 minutes running this notebook. \n",
    "\n",
    "## Before you begin\n",
    "Creating an agent using Azure AI agent service requires an Azure AI Foundry project and a deployed, supported model. See more details in [Create a new agent](https://learn.microsoft.com/azure/ai-services/agents/quickstart?pivots=ai-foundry-portal).\n",
    "\n",
    "For quality evaluation, you need to deploy a `gpt` model supporting JSON mode. We recommend a model `gpt-4o` or `gpt-4o-mini` for their strong reasoning capabilities.    \n",
    "\n",
    "Important: Make sure to authenticate to Azure using `az login` in your terminal before running this notebook.\n",
    "\n",
    "### Prerequisite\n",
    "\n",
    "Before running the sample:\n",
    "```bash\n",
    "pip install azure-ai-projects azure-identity azure-ai-evaluation\n",
    "```\n",
    "Set these environment variables with your own values:\n",
    "1) **PROJECT_CONNECTION_STRING** - The project connection string, as found in the overview page of your Azure AI Foundry project.\n",
    "2) **MODEL_DEPLOYMENT_NAME** - The deployment name of the model for AI-assisted evaluators, as found under the \"Name\" column in the \"Models + endpoints\" tab in your Azure AI Foundry project.\n",
    "3) **AZURE_OPENAI_ENDPOINT** - Azure Open AI Endpoint to be used for evaluation.\n",
    "4) **AZURE_OPENAI_API_KEY** - Azure Open AI Key to be used for evaluation.\n",
    "5) **AZURE_OPENAI_API_VERSION** - Azure Open AI Api version to be used for evaluation.\n",
    "6) **AZURE_SUBSCRIPTION_ID** - Azure Subscription Id of Azure AI Project\n",
    "7) **PROJECT_NAME** - Azure AI Project Name\n",
    "8) **RESOURCE_GROUP_NAME** - Azure AI Project Resource Group Name\n",
    "9) **AGENT_MODEL_DEPLOYMENT_NAME** - The deployment name of the model for your Azure AI agent, as found under the \"Name\" column in the \"Models + endpoints\" tab in your Azure AI Foundry project."
   ]
  },
  {
   "cell_type": "markdown",
   "metadata": {},
   "source": [
    "### Setup Azure credentials and project \n",
    "1. use az cli to login to the tenant with your credential\n",
    "\n",
    "<!-- initializing Project Client -->"
   ]
  },
  {
   "cell_type": "code",
   "execution_count": 1,
   "metadata": {},
   "outputs": [
    {
     "name": "stdout",
     "output_type": "stream",
     "text": [
      "Environment and authentication OK\n"
     ]
    }
   ],
   "source": [
    "from dotenv import load_dotenv\n",
    "\n",
    "# load environment variables from .env file\n",
    "load_dotenv(dotenv_path=\".env\", override=True)\n",
    "\n",
    "from utils.fdyauth import AuthHelper\n",
    "settings = AuthHelper.load_settings()\n",
    "credential = AuthHelper.test_credential()\n",
    "\n",
    "if credential:\n",
    "    print('Environment and authentication OK')\n",
    "else:\n",
    "    print(\"please login first\")"
   ]
  },
  {
   "cell_type": "code",
   "execution_count": null,
   "metadata": {},
   "outputs": [
    {
     "name": "stdout",
     "output_type": "stream",
     "text": [
      "project client api version: 2025-05-15-preview\n",
      "azure-ai-agents version: 1.0.1\n"
     ]
    }
   ],
   "source": [
    "import os\n",
    "import azure.ai.agents as agentslib\n",
    "from azure.ai.projects import AIProjectClient\n",
    "from azure.ai.projects.models import (\n",
    "    AgentEvaluationRequest,\n",
    "    InputDataset,\n",
    "    EvaluatorIds,\n",
    "    EvaluatorConfiguration,\n",
    "    AgentEvaluationSamplingConfiguration,\n",
    "    AgentEvaluationRedactionConfiguration,\n",
    "    Evaluation,\n",
    "    DatasetVersion,\n",
    "    FileDatasetVersion,\n",
    ")\n",
    "from azure.ai.agents.models import (\n",
    "    FunctionTool,\n",
    "    ToolSet,\n",
    "    MessageRole,\n",
    ")\n",
    "\n",
    "# Import your custom functions to be used as Tools for the Agent\n",
    "from utils.user_functions import user_functions\n",
    "\n",
    "# Initialize project client with proper authentication\n",
    "project_client = AIProjectClient(\n",
    "    credential=credential,  # Use the credential from earlier setup\n",
    "    endpoint=settings.project_endpoint\n",
    ")\n",
    "print(f\"project client api version: {project_client._config.api_version}\")\n",
    "print(f\"azure-ai-agents version: {agentslib.__version__}\")\n",
    "\n",
    "AGENT_NAME = \"Seattle Tourist Assistant\"\n",
    "AGENT_INSTRUCTIONS = \"\"\"You are a helpful tourist assistant\"\"\"\n",
    "\n",
    "# Add Tools to be used by Agent\n",
    "functions = FunctionTool(user_functions)\n",
    "\n",
    "toolset = ToolSet()\n",
    "toolset.add(functions)\n",
    "\n",
    "# To enable tool calls executed automatically\n",
    "project_client.agents.enable_auto_function_calls(tools=toolset, max_retry=4)"
   ]
  },
  {
   "cell_type": "markdown",
   "metadata": {},
   "source": [
    "### Create an AI agent (Azure AI Agent Service)"
   ]
  },
  {
   "cell_type": "code",
   "execution_count": 3,
   "metadata": {},
   "outputs": [
    {
     "name": "stdout",
     "output_type": "stream",
     "text": [
      "reusing agent > Seattle Tourist Assistant (id: asst_MSuuqYfXRGp34r33IF6DO0D0)\n"
     ]
    }
   ],
   "source": [
    "found_agent = None\n",
    "all_agents_list = project_client.agents.list_agents()\n",
    "for a in all_agents_list:\n",
    "    if a.name == AGENT_NAME:\n",
    "        found_agent = a\n",
    "        break\n",
    "\n",
    "if found_agent:\n",
    "    agent = project_client.agents.update_agent(\n",
    "        agent_id=found_agent.id,\n",
    "        model=settings.model_deployment_name,\n",
    "        instructions=AGENT_INSTRUCTIONS,\n",
    "        toolset=toolset,\n",
    "    )\n",
    "    project_client.agents.enable_auto_function_calls(tools=toolset, max_retry=4) \n",
    "    print(f\"reusing agent > {agent.name} (id: {agent.id})\")\n",
    "else:\n",
    "    agent = project_client.agents.create_agent(\n",
    "        model=settings.model_deployment_name,\n",
    "        name=AGENT_NAME,\n",
    "        instructions=AGENT_INSTRUCTIONS,\n",
    "        toolset=toolset,\n",
    "    )\n",
    "    print(f\"Created agent '{AGENT_NAME}' with {len(functions._functions)} tools\\nID: {agent.id}\")"
   ]
  },
  {
   "cell_type": "markdown",
   "metadata": {},
   "source": [
    "### Create Thread"
   ]
  },
  {
   "cell_type": "code",
   "execution_count": 4,
   "metadata": {},
   "outputs": [
    {
     "name": "stdout",
     "output_type": "stream",
     "text": [
      "Created thread, ID: thread_d4RuEKjvDHrKD0p5cejv97gC\n"
     ]
    }
   ],
   "source": [
    "thread = project_client.agents.threads.create()\n",
    "print(f\"Created thread, ID: {thread.id}\")"
   ]
  },
  {
   "cell_type": "markdown",
   "metadata": {},
   "source": [
    "## Conversation with Agent\n",
    "Use below cells to have conversation with the agent\n",
    "- `Create Message[1]`\n",
    "- `Execute[2]`"
   ]
  },
  {
   "cell_type": "markdown",
   "metadata": {},
   "source": [
    "### Create Message[1]"
   ]
  },
  {
   "cell_type": "code",
   "execution_count": 5,
   "metadata": {},
   "outputs": [
    {
     "name": "stdout",
     "output_type": "stream",
     "text": [
      "Created message, ID: msg_OOgFPZybtKi8coe6zjcZvL6g\n"
     ]
    }
   ],
   "source": [
    "# Create message to thread\n",
    "\n",
    "MESSAGE = \"Can you email me weather info for Seattle ?\"\n",
    "\n",
    "message = project_client.agents.messages.create(\n",
    "    thread_id=thread.id,\n",
    "    role=MessageRole.USER,\n",
    "    content=MESSAGE,\n",
    ")\n",
    "print(f\"Created message, ID: {message.id}\")"
   ]
  },
  {
   "cell_type": "markdown",
   "metadata": {},
   "source": [
    "### Execute[2]"
   ]
  },
  {
   "cell_type": "code",
   "execution_count": 6,
   "metadata": {},
   "outputs": [
    {
     "name": "stdout",
     "output_type": "stream",
     "text": [
      "Run finished with status: RunStatus.COMPLETED\n",
      "Run ID: run_wgW3TkmXHGI99wDH3Riq8cyU\n"
     ]
    }
   ],
   "source": [
    "run = project_client.agents.runs.create_and_process(thread_id=thread.id, agent_id=agent.id)\n",
    "\n",
    "print(f\"Run finished with status: {run.status}\")\n",
    "\n",
    "if run.status == \"failed\":\n",
    "    print(f\"Run failed: {run.last_error}\")\n",
    "\n",
    "print(f\"Run ID: {run.id}\")"
   ]
  },
  {
   "cell_type": "markdown",
   "metadata": {},
   "source": [
    "### List Messages"
   ]
  },
  {
   "cell_type": "code",
   "execution_count": 7,
   "metadata": {},
   "outputs": [
    {
     "name": "stdout",
     "output_type": "stream",
     "text": [
      "Role: MessageRole.USER\n",
      "Content: Can you email me weather info for Seattle ?\n",
      "----------------------------------------\n",
      "Role: MessageRole.AGENT\n",
      "Content: To email you the weather information for Seattle, I need your email address. Could you please provide it?\n",
      "----------------------------------------\n"
     ]
    }
   ],
   "source": [
    "for message in project_client.agents.messages.list(thread.id, order=\"asc\"):\n",
    "    print(f\"Role: {message.role}\")\n",
    "    print(f\"Content: {message.content[0].text.value}\")\n",
    "    print(\"-\" * 40)"
   ]
  },
  {
   "cell_type": "markdown",
   "metadata": {},
   "source": [
    "# Evaluate"
   ]
  },
  {
   "cell_type": "markdown",
   "metadata": {},
   "source": [
    "### Get data from agent"
   ]
  },
  {
   "cell_type": "code",
   "execution_count": 21,
   "metadata": {},
   "outputs": [
    {
     "name": "stderr",
     "output_type": "stream",
     "text": [
      "<>:16: SyntaxWarning: invalid escape sequence '\\e'\n",
      "<>:16: SyntaxWarning: invalid escape sequence '\\e'\n",
      "C:\\Users\\yingdingwang\\AppData\\Local\\Temp\\ipykernel_37640\\1184475642.py:16: SyntaxWarning: invalid escape sequence '\\e'\n",
      "  evaluation_data = converter.prepare_evaluation_data(thread_ids=thread_id, filename=\"data\\evaluation_data_1.jsonl\")\n"
     ]
    },
    {
     "name": "stdout",
     "output_type": "stream",
     "text": [
      "[\n",
      "    {\n",
      "        \"query\": [\n",
      "            {\n",
      "                \"role\": \"system\",\n",
      "                \"content\": \"You are a helpful tourist assistant\"\n",
      "            },\n",
      "            {\n",
      "                \"createdAt\": \"2025-06-24T21:21:36Z\",\n",
      "                \"role\": \"user\",\n",
      "                \"content\": [\n",
      "                    {\n",
      "                        \"type\": \"text\",\n",
      "                        \"text\": \"Can you email me weather info for Seattle ?\"\n",
      "                    }\n",
      "                ]\n",
      "            }\n",
      "        ],\n",
      "        \"response\": [\n",
      "            {\n",
      "                \"createdAt\": \"2025-06-24T21:21:39Z\",\n",
      "                \"run_id\": \"run_wgW3TkmXHGI99wDH3Riq8cyU\",\n",
      "                \"role\": \"assistant\",\n",
      "                \"content\": [\n",
      "                    {\n",
      "                        \"type\": \"text\",\n",
      "                        \"text\": \"To email you the weather information for Seattle, I need your email address. Could you please provide it?\"\n",
      "                    }\n",
      "                ]\n",
      "            }\n",
      "        ],\n",
      "        \"tool_definitions\": [\n",
      "            {\n",
      "                \"name\": \"convert_temperature\",\n",
      "                \"type\": \"function\",\n",
      "                \"description\": \"Converts temperature from Celsius to Fahrenheit.\",\n",
      "                \"parameters\": {\n",
      "                    \"type\": \"object\",\n",
      "                    \"properties\": {\n",
      "                        \"celsius\": {\n",
      "                            \"type\": \"number\",\n",
      "                            \"description\": \"Temperature in Celsius.\"\n",
      "                        }\n",
      "                    }\n",
      "                }\n",
      "            },\n",
      "            {\n",
      "                \"name\": \"send_email\",\n",
      "                \"type\": \"function\",\n",
      "                \"description\": \"Sends an email with the specified subject and body to the recipient.\",\n",
      "                \"parameters\": {\n",
      "                    \"type\": \"object\",\n",
      "                    \"properties\": {\n",
      "                        \"recipient\": {\n",
      "                            \"type\": \"string\",\n",
      "                            \"description\": \"Email address of the recipient.\"\n",
      "                        },\n",
      "                        \"subject\": {\n",
      "                            \"type\": \"string\",\n",
      "                            \"description\": \"Subject of the email.\"\n",
      "                        },\n",
      "                        \"body\": {\n",
      "                            \"type\": \"string\",\n",
      "                            \"description\": \"Body content of the email.\"\n",
      "                        }\n",
      "                    }\n",
      "                }\n",
      "            },\n",
      "            {\n",
      "                \"name\": \"fetch_weather\",\n",
      "                \"type\": \"function\",\n",
      "                \"description\": \"Fetches the weather information for the specified location.\",\n",
      "                \"parameters\": {\n",
      "                    \"type\": \"object\",\n",
      "                    \"properties\": {\n",
      "                        \"location\": {\n",
      "                            \"type\": \"string\",\n",
      "                            \"description\": \"The location to fetch weather for.\"\n",
      "                        }\n",
      "                    }\n",
      "                }\n",
      "            },\n",
      "            {\n",
      "                \"name\": \"longest_word_in_sentences\",\n",
      "                \"type\": \"function\",\n",
      "                \"description\": \"Finds the longest word in each sentence.\",\n",
      "                \"parameters\": {\n",
      "                    \"type\": \"object\",\n",
      "                    \"properties\": {\n",
      "                        \"sentences\": {\n",
      "                            \"type\": \"array\",\n",
      "                            \"items\": {\n",
      "                                \"type\": \"string\"\n",
      "                            },\n",
      "                            \"description\": \"A list of sentences.\"\n",
      "                        }\n",
      "                    }\n",
      "                }\n",
      "            },\n",
      "            {\n",
      "                \"name\": \"toggle_flag\",\n",
      "                \"type\": \"function\",\n",
      "                \"description\": \"Toggles a boolean flag.\",\n",
      "                \"parameters\": {\n",
      "                    \"type\": \"object\",\n",
      "                    \"properties\": {\n",
      "                        \"flag\": {\n",
      "                            \"type\": \"boolean\",\n",
      "                            \"description\": \"The flag to toggle.\"\n",
      "                        }\n",
      "                    }\n",
      "                }\n",
      "            },\n",
      "            {\n",
      "                \"name\": \"fetch_current_datetime\",\n",
      "                \"type\": \"function\",\n",
      "                \"description\": \"Get the current time as a JSON string, optionally formatted.\",\n",
      "                \"parameters\": {\n",
      "                    \"type\": \"object\",\n",
      "                    \"properties\": {\n",
      "                        \"format\": {\n",
      "                            \"type\": [\n",
      "                                \"string\",\n",
      "                                \"null\"\n",
      "                            ],\n",
      "                            \"description\": \"The format in which to return the current time. Defaults to None, which uses a standard format.\"\n",
      "                        }\n",
      "                    }\n",
      "                }\n",
      "            },\n",
      "            {\n",
      "                \"name\": \"process_records\",\n",
      "                \"type\": \"function\",\n",
      "                \"description\": \"Process a list of records, where each record is a dictionary with string keys and integer values.\",\n",
      "                \"parameters\": {\n",
      "                    \"type\": \"object\",\n",
      "                    \"properties\": {\n",
      "                        \"records\": {\n",
      "                            \"type\": \"array\",\n",
      "                            \"items\": {\n",
      "                                \"type\": \"object\"\n",
      "                            },\n",
      "                            \"description\": \"A list containing dictionaries that map strings to integers.\"\n",
      "                        }\n",
      "                    }\n",
      "                }\n",
      "            },\n",
      "            {\n",
      "                \"name\": \"merge_dicts\",\n",
      "                \"type\": \"function\",\n",
      "                \"description\": \"Merges two dictionaries.\",\n",
      "                \"parameters\": {\n",
      "                    \"type\": \"object\",\n",
      "                    \"properties\": {\n",
      "                        \"dict1\": {\n",
      "                            \"type\": \"object\",\n",
      "                            \"description\": \"First dictionary.\"\n",
      "                        },\n",
      "                        \"dict2\": {\n",
      "                            \"type\": \"object\",\n",
      "                            \"description\": \"Second dictionary.\"\n",
      "                        }\n",
      "                    }\n",
      "                }\n",
      "            },\n",
      "            {\n",
      "                \"name\": \"calculate_sum\",\n",
      "                \"type\": \"function\",\n",
      "                \"description\": \"Calculates the sum of two integers.\",\n",
      "                \"parameters\": {\n",
      "                    \"type\": \"object\",\n",
      "                    \"properties\": {\n",
      "                        \"a\": {\n",
      "                            \"type\": \"integer\",\n",
      "                            \"description\": \"First integer.\"\n",
      "                        },\n",
      "                        \"b\": {\n",
      "                            \"type\": \"integer\",\n",
      "                            \"description\": \"Second integer.\"\n",
      "                        }\n",
      "                    }\n",
      "                }\n",
      "            },\n",
      "            {\n",
      "                \"name\": \"opening_hours\",\n",
      "                \"type\": \"function\",\n",
      "                \"description\": \"Fetches the opening hours of a tourist destination in Seattle.\",\n",
      "                \"parameters\": {\n",
      "                    \"type\": \"object\",\n",
      "                    \"properties\": {\n",
      "                        \"tourist_destination\": {\n",
      "                            \"type\": \"string\",\n",
      "                            \"description\": \"The tourist destination to fetch opening hours for.\"\n",
      "                        }\n",
      "                    }\n",
      "                }\n",
      "            },\n",
      "            {\n",
      "                \"name\": \"get_user_info\",\n",
      "                \"type\": \"function\",\n",
      "                \"description\": \"Retrieves user information based on user ID.\",\n",
      "                \"parameters\": {\n",
      "                    \"type\": \"object\",\n",
      "                    \"properties\": {\n",
      "                        \"user_id\": {\n",
      "                            \"type\": \"integer\",\n",
      "                            \"description\": \"ID of the user.\"\n",
      "                        }\n",
      "                    }\n",
      "                }\n",
      "            }\n",
      "        ]\n",
      "    }\n",
      "]\n"
     ]
    }
   ],
   "source": [
    "from azure.ai.evaluation import AIAgentConverter\n",
    "import json \n",
    "\n",
    "# Initialize the converter that will be backed by the project.\n",
    "converter = AIAgentConverter(project_client)\n",
    "\n",
    "thread_id = thread.id\n",
    "run_id = run.id\n",
    "\n",
    "\n",
    "# Get a single agent run data\n",
    "evaluation_data_single_run = converter.convert(thread_id=thread_id, run_id=run_id)\n",
    "\n",
    "# Run this to save thread data to a JSONL file for evaluation\n",
    "# Save the agent thread data to a JSONL file\n",
    "evaluation_data = converter.prepare_evaluation_data(thread_ids=thread_id, filename=\"data\\evaluation_data_1.jsonl\")\n",
    "print(json.dumps(evaluation_data, indent=4))"
   ]
  },
  {
   "cell_type": "code",
   "execution_count": 9,
   "metadata": {},
   "outputs": [
    {
     "data": {
      "text/plain": [
       "{'query': [{'role': 'system',\n",
       "   'content': 'You are a helpful tourist assistant'},\n",
       "  {'createdAt': '2025-06-24T21:21:36Z',\n",
       "   'role': 'user',\n",
       "   'content': [{'type': 'text',\n",
       "     'text': 'Can you email me weather info for Seattle ?'}]}],\n",
       " 'response': [{'createdAt': '2025-06-24T21:21:39Z',\n",
       "   'run_id': 'run_wgW3TkmXHGI99wDH3Riq8cyU',\n",
       "   'role': 'assistant',\n",
       "   'content': [{'type': 'text',\n",
       "     'text': 'To email you the weather information for Seattle, I need your email address. Could you please provide it?'}]}],\n",
       " 'tool_definitions': [{'name': 'convert_temperature',\n",
       "   'type': 'function',\n",
       "   'description': 'Converts temperature from Celsius to Fahrenheit.',\n",
       "   'parameters': {'type': 'object',\n",
       "    'properties': {'celsius': {'type': 'number',\n",
       "      'description': 'Temperature in Celsius.'}}}},\n",
       "  {'name': 'send_email',\n",
       "   'type': 'function',\n",
       "   'description': 'Sends an email with the specified subject and body to the recipient.',\n",
       "   'parameters': {'type': 'object',\n",
       "    'properties': {'recipient': {'type': 'string',\n",
       "      'description': 'Email address of the recipient.'},\n",
       "     'subject': {'type': 'string', 'description': 'Subject of the email.'},\n",
       "     'body': {'type': 'string',\n",
       "      'description': 'Body content of the email.'}}}},\n",
       "  {'name': 'fetch_weather',\n",
       "   'type': 'function',\n",
       "   'description': 'Fetches the weather information for the specified location.',\n",
       "   'parameters': {'type': 'object',\n",
       "    'properties': {'location': {'type': 'string',\n",
       "      'description': 'The location to fetch weather for.'}}}},\n",
       "  {'name': 'longest_word_in_sentences',\n",
       "   'type': 'function',\n",
       "   'description': 'Finds the longest word in each sentence.',\n",
       "   'parameters': {'type': 'object',\n",
       "    'properties': {'sentences': {'type': 'array',\n",
       "      'items': {'type': 'string'},\n",
       "      'description': 'A list of sentences.'}}}},\n",
       "  {'name': 'toggle_flag',\n",
       "   'type': 'function',\n",
       "   'description': 'Toggles a boolean flag.',\n",
       "   'parameters': {'type': 'object',\n",
       "    'properties': {'flag': {'type': 'boolean',\n",
       "      'description': 'The flag to toggle.'}}}},\n",
       "  {'name': 'fetch_current_datetime',\n",
       "   'type': 'function',\n",
       "   'description': 'Get the current time as a JSON string, optionally formatted.',\n",
       "   'parameters': {'type': 'object',\n",
       "    'properties': {'format': {'type': ['string', 'null'],\n",
       "      'description': 'The format in which to return the current time. Defaults to None, which uses a standard format.'}}}},\n",
       "  {'name': 'process_records',\n",
       "   'type': 'function',\n",
       "   'description': 'Process a list of records, where each record is a dictionary with string keys and integer values.',\n",
       "   'parameters': {'type': 'object',\n",
       "    'properties': {'records': {'type': 'array',\n",
       "      'items': {'type': 'object'},\n",
       "      'description': 'A list containing dictionaries that map strings to integers.'}}}},\n",
       "  {'name': 'merge_dicts',\n",
       "   'type': 'function',\n",
       "   'description': 'Merges two dictionaries.',\n",
       "   'parameters': {'type': 'object',\n",
       "    'properties': {'dict1': {'type': 'object',\n",
       "      'description': 'First dictionary.'},\n",
       "     'dict2': {'type': 'object', 'description': 'Second dictionary.'}}}},\n",
       "  {'name': 'calculate_sum',\n",
       "   'type': 'function',\n",
       "   'description': 'Calculates the sum of two integers.',\n",
       "   'parameters': {'type': 'object',\n",
       "    'properties': {'a': {'type': 'integer', 'description': 'First integer.'},\n",
       "     'b': {'type': 'integer', 'description': 'Second integer.'}}}},\n",
       "  {'name': 'opening_hours',\n",
       "   'type': 'function',\n",
       "   'description': 'Fetches the opening hours of a tourist destination in Seattle.',\n",
       "   'parameters': {'type': 'object',\n",
       "    'properties': {'tourist_destination': {'type': 'string',\n",
       "      'description': 'The tourist destination to fetch opening hours for.'}}}},\n",
       "  {'name': 'get_user_info',\n",
       "   'type': 'function',\n",
       "   'description': 'Retrieves user information based on user ID.',\n",
       "   'parameters': {'type': 'object',\n",
       "    'properties': {'user_id': {'type': 'integer',\n",
       "      'description': 'ID of the user.'}}}}]}"
      ]
     },
     "execution_count": 9,
     "metadata": {},
     "output_type": "execute_result"
    }
   ],
   "source": [
    "evaluation_data_single_run"
   ]
  },
  {
   "cell_type": "markdown",
   "metadata": {},
   "source": [
    "### Setting up evaluator\n",
    "\n",
    "We will select the following evaluators to assess the different aspects relevant for agent quality: \n",
    "\n",
    "- [Intent resolution](https://aka.ms/intentresolution-sample): measures the extent of which an agent identifies the correct intent from a user query. Scale: integer 1-5. Higher is better.\n",
    "- [Tool call accuracy](https://aka.ms/toolcallaccuracy-sample): evaluates the agent’s ability to select the appropriate tools, and process correct parameters from previous steps. Scale: float 0-1. Higher is better.\n",
    "- [Task adherence](https://aka.ms/taskadherence-sample): measures the extent of which an agent’s final response adheres to the task based on its system message and a user query. Scale: integer 1-5. Higher is better.\n"
   ]
  },
  {
   "cell_type": "code",
   "execution_count": 10,
   "metadata": {},
   "outputs": [
    {
     "name": "stderr",
     "output_type": "stream",
     "text": [
      "Class IntentResolutionEvaluator: This is an experimental class, and may change at any time. Please see https://aka.ms/azuremlexperimental for more information.\n"
     ]
    },
    {
     "name": "stderr",
     "output_type": "stream",
     "text": [
      "Class ToolCallAccuracyEvaluator: This is an experimental class, and may change at any time. Please see https://aka.ms/azuremlexperimental for more information.\n",
      "Class TaskAdherenceEvaluator: This is an experimental class, and may change at any time. Please see https://aka.ms/azuremlexperimental for more information.\n"
     ]
    }
   ],
   "source": [
    "from azure.ai.evaluation import (\n",
    "    ToolCallAccuracyEvaluator,\n",
    "    AzureOpenAIModelConfiguration,\n",
    "    IntentResolutionEvaluator,\n",
    "    TaskAdherenceEvaluator,\n",
    ")\n",
    "from pprint import pprint\n",
    "\n",
    "model_config = AzureOpenAIModelConfiguration(\n",
    "    azure_endpoint=settings.azure_openai_endpoint,\n",
    "    api_key=settings.azure_openai_api_key,\n",
    "    api_version=settings.azure_openai_api_version,\n",
    "    azure_deployment=settings.model_deployment_name,\n",
    ")\n",
    "\n",
    "intent_resolution = IntentResolutionEvaluator(model_config=model_config)\n",
    "\n",
    "tool_call_accuracy = ToolCallAccuracyEvaluator(model_config=model_config)\n",
    "\n",
    "task_adherence = TaskAdherenceEvaluator(model_config=model_config)"
   ]
  },
  {
   "cell_type": "code",
   "execution_count": 11,
   "metadata": {},
   "outputs": [
    {
     "data": {
      "text/plain": [
       "<azure.ai.projects._configuration.AIProjectClientConfiguration at 0x1baf9cc1e50>"
      ]
     },
     "execution_count": 11,
     "metadata": {},
     "output_type": "execute_result"
    }
   ],
   "source": [
    "# azure_ai_project = {\n",
    "#     \"subscription_id\": os.environ[\"AZURE_SUBSCRIPTION_ID\"],\n",
    "#     \"project_name\": os.environ[\"PROJECT_NAME\"],\n",
    "#     \"resource_group_name\": os.environ[\"RESOURCE_GROUP_NAME\"],\n",
    "# }\n",
    "\n",
    "agent_client = project_client.agents\n",
    "agent_client._config.endpoint\n",
    "\n",
    "project_client._config"
   ]
  },
  {
   "cell_type": "markdown",
   "metadata": {},
   "source": [
    "### Run Evaluator"
   ]
  },
  {
   "cell_type": "code",
   "execution_count": 12,
   "metadata": {},
   "outputs": [
    {
     "name": "stdout",
     "output_type": "stream",
     "text": [
      "c:\\Users\\yingdingwang\\Documents\\VCS\\democollections\\AgentEvalExamle\\fdy\\data\\evaluation_data.jsonl\n"
     ]
    }
   ],
   "source": [
    "# par_dir = os.path.dirname(os.getcwd())\n",
    "sub_dir = os.getcwd()\n",
    "# print(sub_dir)\n",
    "data_file_path = os.path.join(sub_dir,\"data\",\"evaluation_data.jsonl\")\n",
    "if os.path.exists(data_file_path):\n",
    "   data_file = data_file_path\n",
    "else:\n",
    "   data_file = \"\"\n",
    "\n",
    "print(data_file)"
   ]
  },
  {
   "cell_type": "code",
   "execution_count": 24,
   "metadata": {},
   "outputs": [
    {
     "name": "stdout",
     "output_type": "stream",
     "text": [
      "Upload a single file and create a new Dataset to reference the file.\n"
     ]
    },
    {
     "ename": "HttpResponseError",
     "evalue": "(UserError) Service invocation failed!\r\nRequest: POST eastus2.api.azureml.ms/assetstore/v1.0/temporaryDataReference/createOrGet\r\nStatus Code: 403 Forbidden\r\nError Code: UserError/Auth/Authorization/ResourceMsiTokenDoesntHavePermissionsOnStorage\r\nReason Phrase: Foundry project MSI foundry-proj-yw-uno-resource/foundry-proj-yw-uno doesn't have appropriate permis\r\nResponse Body: {\n  \"error\": {\n    \"code\": \"UserError\",\n    \"severity\": null,\n    \"message\": \"Foundry project MSI foundry-proj-yw-uno-resource/foundry-proj-yw-uno doesn't have appropriate permissions on the storage account stacctaievalywuno\",\n    \"messageFormat\": \"Foundry project MSI {foundryAccountName}/{projectName} doesn't have appropriate permissions on the storage account {storageAccount}\",\n    \"messageParameters\": {\n      \"foundryAccountName\": \"foundry-proj-yw-uno-resource\",\n      \"projectName\": \"foundry-proj-yw-uno\",\n      \"storageAccount\": \"stacctaievalywuno\"\n    },\n    \"referenceCode\": null,\n    \"detailsUri\": null,\n    \"target\": null,\n    \"details\": [],\n    \"innerError\": {\n      \"code\": \"Auth\",\n      \"innerError\": {\n        \"code\": \"Authorization\",\n        \"innerError\": {\n          \"code\": \"ResourceMsiTokenDoesntHavePermissionsOnStorage\",\n          \"innerError\": null\n        }\n      }\n    },\n    \"debugInfo\": null,\n    \"additionalInfo\": null\n  },\n  \"correlation\": {\n    \"operation\": \"3f653d38e38bbef897565c5f7062a321\",\n    \"request\": \"fd80f39245439ad8\"\n  },\n  \"environment\": \"eastus2\",\n  \"location\": \"eastus2\",\n  \"time\": \"2025-06-24T22:35:14.705557+00:00\",\n  \"componentName\": \"assetstore\",\n  \"statusCode\": 403\n}\nCode: UserError\nMessage: Service invocation failed!\r\nRequest: POST eastus2.api.azureml.ms/assetstore/v1.0/temporaryDataReference/createOrGet\r\nStatus Code: 403 Forbidden\r\nError Code: UserError/Auth/Authorization/ResourceMsiTokenDoesntHavePermissionsOnStorage\r\nReason Phrase: Foundry project MSI foundry-proj-yw-uno-resource/foundry-proj-yw-uno doesn't have appropriate permis\r\nResponse Body: {\n  \"error\": {\n    \"code\": \"UserError\",\n    \"severity\": null,\n    \"message\": \"Foundry project MSI foundry-proj-yw-uno-resource/foundry-proj-yw-uno doesn't have appropriate permissions on the storage account stacctaievalywuno\",\n    \"messageFormat\": \"Foundry project MSI {foundryAccountName}/{projectName} doesn't have appropriate permissions on the storage account {storageAccount}\",\n    \"messageParameters\": {\n      \"foundryAccountName\": \"foundry-proj-yw-uno-resource\",\n      \"projectName\": \"foundry-proj-yw-uno\",\n      \"storageAccount\": \"stacctaievalywuno\"\n    },\n    \"referenceCode\": null,\n    \"detailsUri\": null,\n    \"target\": null,\n    \"details\": [],\n    \"innerError\": {\n      \"code\": \"Auth\",\n      \"innerError\": {\n        \"code\": \"Authorization\",\n        \"innerError\": {\n          \"code\": \"ResourceMsiTokenDoesntHavePermissionsOnStorage\",\n          \"innerError\": null\n        }\n      }\n    },\n    \"debugInfo\": null,\n    \"additionalInfo\": null\n  },\n  \"correlation\": {\n    \"operation\": \"3f653d38e38bbef897565c5f7062a321\",\n    \"request\": \"fd80f39245439ad8\"\n  },\n  \"environment\": \"eastus2\",\n  \"location\": \"eastus2\",\n  \"time\": \"2025-06-24T22:35:14.705557+00:00\",\n  \"componentName\": \"assetstore\",\n  \"statusCode\": 403\n}",
     "output_type": "error",
     "traceback": [
      "\u001b[31m---------------------------------------------------------------------------\u001b[39m",
      "\u001b[31mHttpResponseError\u001b[39m                         Traceback (most recent call last)",
      "\u001b[36mCell\u001b[39m\u001b[36m \u001b[39m\u001b[32mIn[24]\u001b[39m\u001b[32m, line 11\u001b[39m\n\u001b[32m      3\u001b[39m dataset_version = \u001b[33m\"\u001b[39m\u001b[33m1.0\u001b[39m\u001b[33m\"\u001b[39m\n\u001b[32m      4\u001b[39m \u001b[38;5;66;03m# dataset: DatasetVersion = project_client.datasets.upload_file(\u001b[39;00m\n\u001b[32m      5\u001b[39m \u001b[38;5;66;03m#     name=dataset_name,\u001b[39;00m\n\u001b[32m      6\u001b[39m \u001b[38;5;66;03m#     version=dataset_version,\u001b[39;00m\n\u001b[32m   (...)\u001b[39m\u001b[32m      9\u001b[39m \n\u001b[32m     10\u001b[39m \u001b[38;5;66;03m# stacctaievalywuno \"storage account contributor\" \u001b[39;00m\n\u001b[32m---> \u001b[39m\u001b[32m11\u001b[39m dataset: DatasetVersion = \u001b[43mproject_client\u001b[49m\u001b[43m.\u001b[49m\u001b[43mdatasets\u001b[49m\u001b[43m.\u001b[49m\u001b[43mupload_file\u001b[49m\u001b[43m(\u001b[49m\n\u001b[32m     12\u001b[39m \u001b[43m    \u001b[49m\u001b[43mname\u001b[49m\u001b[43m=\u001b[49m\u001b[43mdataset_name\u001b[49m\u001b[43m,\u001b[49m\n\u001b[32m     13\u001b[39m \u001b[43m    \u001b[49m\u001b[43mversion\u001b[49m\u001b[43m=\u001b[49m\u001b[43mdataset_version\u001b[49m\u001b[43m,\u001b[49m\n\u001b[32m     14\u001b[39m \u001b[43m    \u001b[49m\u001b[43mfile_path\u001b[49m\u001b[43m=\u001b[49m\u001b[43mdata_file\u001b[49m\u001b[43m,\u001b[49m\n\u001b[32m     15\u001b[39m \u001b[43m    \u001b[49m\u001b[43mconnection_name\u001b[49m\u001b[43m=\u001b[49m\u001b[33;43m\"\u001b[39;49m\u001b[33;43m\"\u001b[39;49m\n\u001b[32m     16\u001b[39m \u001b[43m)\u001b[49m\n\u001b[32m     17\u001b[39m \u001b[38;5;28mprint\u001b[39m(dataset)\n",
      "\u001b[36mFile \u001b[39m\u001b[32mc:\\Users\\yingdingwang\\Documents\\VENV\\azfdyagents3.12pip\\Lib\\site-packages\\azure\\core\\tracing\\decorator.py:119\u001b[39m, in \u001b[36mdistributed_trace.<locals>.decorator.<locals>.wrapper_use_tracer\u001b[39m\u001b[34m(*args, **kwargs)\u001b[39m\n\u001b[32m    117\u001b[39m \u001b[38;5;66;03m# If tracing is disabled globally and user didn't explicitly enable it, don't trace.\u001b[39;00m\n\u001b[32m    118\u001b[39m \u001b[38;5;28;01mif\u001b[39;00m user_enabled \u001b[38;5;129;01mis\u001b[39;00m \u001b[38;5;28;01mFalse\u001b[39;00m \u001b[38;5;129;01mor\u001b[39;00m (\u001b[38;5;129;01mnot\u001b[39;00m tracing_enabled \u001b[38;5;129;01mand\u001b[39;00m user_enabled \u001b[38;5;129;01mis\u001b[39;00m \u001b[38;5;28;01mNone\u001b[39;00m):\n\u001b[32m--> \u001b[39m\u001b[32m119\u001b[39m     \u001b[38;5;28;01mreturn\u001b[39;00m \u001b[43mfunc\u001b[49m\u001b[43m(\u001b[49m\u001b[43m*\u001b[49m\u001b[43margs\u001b[49m\u001b[43m,\u001b[49m\u001b[43m \u001b[49m\u001b[43m*\u001b[49m\u001b[43m*\u001b[49m\u001b[43mkwargs\u001b[49m\u001b[43m)\u001b[49m\n\u001b[32m    121\u001b[39m \u001b[38;5;66;03m# Merge span is parameter is set, but only if no explicit parent are passed\u001b[39;00m\n\u001b[32m    122\u001b[39m \u001b[38;5;28;01mif\u001b[39;00m merge_span \u001b[38;5;129;01mand\u001b[39;00m \u001b[38;5;129;01mnot\u001b[39;00m passed_in_parent:\n",
      "\u001b[36mFile \u001b[39m\u001b[32mc:\\Users\\yingdingwang\\Documents\\VENV\\azfdyagents3.12pip\\Lib\\site-packages\\azure\\ai\\projects\\operations\\_patch_datasets.py:107\u001b[39m, in \u001b[36mDatasetsOperations.upload_file\u001b[39m\u001b[34m(self, name, version, file_path, connection_name, **kwargs)\u001b[39m\n\u001b[32m    104\u001b[39m \u001b[38;5;28;01mif\u001b[39;00m pathlib_file_path.is_dir():\n\u001b[32m    105\u001b[39m     \u001b[38;5;28;01mraise\u001b[39;00m \u001b[38;5;167;01mValueError\u001b[39;00m(\u001b[33m\"\u001b[39m\u001b[33mThe provided file is actually a folder. Use method `upload_folder` instead\u001b[39m\u001b[33m\"\u001b[39m)\n\u001b[32m--> \u001b[39m\u001b[32m107\u001b[39m container_client, output_version = \u001b[38;5;28;43mself\u001b[39;49m\u001b[43m.\u001b[49m\u001b[43m_create_dataset_and_get_its_container_client\u001b[49m\u001b[43m(\u001b[49m\n\u001b[32m    108\u001b[39m \u001b[43m    \u001b[49m\u001b[43mname\u001b[49m\u001b[43m=\u001b[49m\u001b[43mname\u001b[49m\u001b[43m,\u001b[49m\u001b[43m \u001b[49m\u001b[43minput_version\u001b[49m\u001b[43m=\u001b[49m\u001b[43mversion\u001b[49m\u001b[43m,\u001b[49m\u001b[43m \u001b[49m\u001b[43mconnection_name\u001b[49m\u001b[43m=\u001b[49m\u001b[43mconnection_name\u001b[49m\n\u001b[32m    109\u001b[39m \u001b[43m\u001b[49m\u001b[43m)\u001b[49m\n\u001b[32m    111\u001b[39m \u001b[38;5;28;01mwith\u001b[39;00m container_client:\n\u001b[32m    113\u001b[39m     \u001b[38;5;28;01mwith\u001b[39;00m \u001b[38;5;28mopen\u001b[39m(file=file_path, mode=\u001b[33m\"\u001b[39m\u001b[33mrb\u001b[39m\u001b[33m\"\u001b[39m) \u001b[38;5;28;01mas\u001b[39;00m data:\n",
      "\u001b[36mFile \u001b[39m\u001b[32mc:\\Users\\yingdingwang\\Documents\\VENV\\azfdyagents3.12pip\\Lib\\site-packages\\azure\\ai\\projects\\operations\\_patch_datasets.py:50\u001b[39m, in \u001b[36mDatasetsOperations._create_dataset_and_get_its_container_client\u001b[39m\u001b[34m(self, name, input_version, connection_name)\u001b[39m\n\u001b[32m     43\u001b[39m \u001b[38;5;28;01mdef\u001b[39;00m\u001b[38;5;250m \u001b[39m\u001b[34m_create_dataset_and_get_its_container_client\u001b[39m(\n\u001b[32m     44\u001b[39m     \u001b[38;5;28mself\u001b[39m,\n\u001b[32m     45\u001b[39m     name: \u001b[38;5;28mstr\u001b[39m,\n\u001b[32m     46\u001b[39m     input_version: \u001b[38;5;28mstr\u001b[39m,\n\u001b[32m     47\u001b[39m     connection_name: Optional[\u001b[38;5;28mstr\u001b[39m] = \u001b[38;5;28;01mNone\u001b[39;00m,\n\u001b[32m     48\u001b[39m ) -> Tuple[ContainerClient, \u001b[38;5;28mstr\u001b[39m]:\n\u001b[32m---> \u001b[39m\u001b[32m50\u001b[39m     pending_upload_response: PendingUploadResponse = \u001b[38;5;28;43mself\u001b[39;49m\u001b[43m.\u001b[49m\u001b[43mpending_upload\u001b[49m\u001b[43m(\u001b[49m\n\u001b[32m     51\u001b[39m \u001b[43m        \u001b[49m\u001b[43mname\u001b[49m\u001b[43m=\u001b[49m\u001b[43mname\u001b[49m\u001b[43m,\u001b[49m\n\u001b[32m     52\u001b[39m \u001b[43m        \u001b[49m\u001b[43mversion\u001b[49m\u001b[43m=\u001b[49m\u001b[43minput_version\u001b[49m\u001b[43m,\u001b[49m\n\u001b[32m     53\u001b[39m \u001b[43m        \u001b[49m\u001b[43mbody\u001b[49m\u001b[43m=\u001b[49m\u001b[43mPendingUploadRequest\u001b[49m\u001b[43m(\u001b[49m\n\u001b[32m     54\u001b[39m \u001b[43m            \u001b[49m\u001b[43mpending_upload_type\u001b[49m\u001b[43m=\u001b[49m\u001b[43mPendingUploadType\u001b[49m\u001b[43m.\u001b[49m\u001b[43mBLOB_REFERENCE\u001b[49m\u001b[43m,\u001b[49m\n\u001b[32m     55\u001b[39m \u001b[43m            \u001b[49m\u001b[43mconnection_name\u001b[49m\u001b[43m=\u001b[49m\u001b[43mconnection_name\u001b[49m\u001b[43m,\u001b[49m\n\u001b[32m     56\u001b[39m \u001b[43m        \u001b[49m\u001b[43m)\u001b[49m\u001b[43m,\u001b[49m\n\u001b[32m     57\u001b[39m \u001b[43m    \u001b[49m\u001b[43m)\u001b[49m\n\u001b[32m     58\u001b[39m     output_version: \u001b[38;5;28mstr\u001b[39m = input_version\n\u001b[32m     60\u001b[39m     \u001b[38;5;28;01mif\u001b[39;00m \u001b[38;5;129;01mnot\u001b[39;00m pending_upload_response.blob_reference:\n",
      "\u001b[36mFile \u001b[39m\u001b[32mc:\\Users\\yingdingwang\\Documents\\VENV\\azfdyagents3.12pip\\Lib\\site-packages\\azure\\core\\tracing\\decorator.py:119\u001b[39m, in \u001b[36mdistributed_trace.<locals>.decorator.<locals>.wrapper_use_tracer\u001b[39m\u001b[34m(*args, **kwargs)\u001b[39m\n\u001b[32m    117\u001b[39m \u001b[38;5;66;03m# If tracing is disabled globally and user didn't explicitly enable it, don't trace.\u001b[39;00m\n\u001b[32m    118\u001b[39m \u001b[38;5;28;01mif\u001b[39;00m user_enabled \u001b[38;5;129;01mis\u001b[39;00m \u001b[38;5;28;01mFalse\u001b[39;00m \u001b[38;5;129;01mor\u001b[39;00m (\u001b[38;5;129;01mnot\u001b[39;00m tracing_enabled \u001b[38;5;129;01mand\u001b[39;00m user_enabled \u001b[38;5;129;01mis\u001b[39;00m \u001b[38;5;28;01mNone\u001b[39;00m):\n\u001b[32m--> \u001b[39m\u001b[32m119\u001b[39m     \u001b[38;5;28;01mreturn\u001b[39;00m \u001b[43mfunc\u001b[49m\u001b[43m(\u001b[49m\u001b[43m*\u001b[49m\u001b[43margs\u001b[49m\u001b[43m,\u001b[49m\u001b[43m \u001b[49m\u001b[43m*\u001b[49m\u001b[43m*\u001b[49m\u001b[43mkwargs\u001b[49m\u001b[43m)\u001b[49m\n\u001b[32m    121\u001b[39m \u001b[38;5;66;03m# Merge span is parameter is set, but only if no explicit parent are passed\u001b[39;00m\n\u001b[32m    122\u001b[39m \u001b[38;5;28;01mif\u001b[39;00m merge_span \u001b[38;5;129;01mand\u001b[39;00m \u001b[38;5;129;01mnot\u001b[39;00m passed_in_parent:\n",
      "\u001b[36mFile \u001b[39m\u001b[32mc:\\Users\\yingdingwang\\Documents\\VENV\\azfdyagents3.12pip\\Lib\\site-packages\\azure\\ai\\projects\\operations\\_operations.py:1868\u001b[39m, in \u001b[36mDatasetsOperations.pending_upload\u001b[39m\u001b[34m(self, name, version, body, **kwargs)\u001b[39m\n\u001b[32m   1866\u001b[39m             \u001b[38;5;28;01mpass\u001b[39;00m\n\u001b[32m   1867\u001b[39m     map_error(status_code=response.status_code, response=response, error_map=error_map)\n\u001b[32m-> \u001b[39m\u001b[32m1868\u001b[39m     \u001b[38;5;28;01mraise\u001b[39;00m HttpResponseError(response=response)\n\u001b[32m   1870\u001b[39m \u001b[38;5;28;01mif\u001b[39;00m _stream:\n\u001b[32m   1871\u001b[39m     deserialized = response.iter_bytes()\n",
      "\u001b[31mHttpResponseError\u001b[39m: (UserError) Service invocation failed!\r\nRequest: POST eastus2.api.azureml.ms/assetstore/v1.0/temporaryDataReference/createOrGet\r\nStatus Code: 403 Forbidden\r\nError Code: UserError/Auth/Authorization/ResourceMsiTokenDoesntHavePermissionsOnStorage\r\nReason Phrase: Foundry project MSI foundry-proj-yw-uno-resource/foundry-proj-yw-uno doesn't have appropriate permis\r\nResponse Body: {\n  \"error\": {\n    \"code\": \"UserError\",\n    \"severity\": null,\n    \"message\": \"Foundry project MSI foundry-proj-yw-uno-resource/foundry-proj-yw-uno doesn't have appropriate permissions on the storage account stacctaievalywuno\",\n    \"messageFormat\": \"Foundry project MSI {foundryAccountName}/{projectName} doesn't have appropriate permissions on the storage account {storageAccount}\",\n    \"messageParameters\": {\n      \"foundryAccountName\": \"foundry-proj-yw-uno-resource\",\n      \"projectName\": \"foundry-proj-yw-uno\",\n      \"storageAccount\": \"stacctaievalywuno\"\n    },\n    \"referenceCode\": null,\n    \"detailsUri\": null,\n    \"target\": null,\n    \"details\": [],\n    \"innerError\": {\n      \"code\": \"Auth\",\n      \"innerError\": {\n        \"code\": \"Authorization\",\n        \"innerError\": {\n          \"code\": \"ResourceMsiTokenDoesntHavePermissionsOnStorage\",\n          \"innerError\": null\n        }\n      }\n    },\n    \"debugInfo\": null,\n    \"additionalInfo\": null\n  },\n  \"correlation\": {\n    \"operation\": \"3f653d38e38bbef897565c5f7062a321\",\n    \"request\": \"fd80f39245439ad8\"\n  },\n  \"environment\": \"eastus2\",\n  \"location\": \"eastus2\",\n  \"time\": \"2025-06-24T22:35:14.705557+00:00\",\n  \"componentName\": \"assetstore\",\n  \"statusCode\": 403\n}\nCode: UserError\nMessage: Service invocation failed!\r\nRequest: POST eastus2.api.azureml.ms/assetstore/v1.0/temporaryDataReference/createOrGet\r\nStatus Code: 403 Forbidden\r\nError Code: UserError/Auth/Authorization/ResourceMsiTokenDoesntHavePermissionsOnStorage\r\nReason Phrase: Foundry project MSI foundry-proj-yw-uno-resource/foundry-proj-yw-uno doesn't have appropriate permis\r\nResponse Body: {\n  \"error\": {\n    \"code\": \"UserError\",\n    \"severity\": null,\n    \"message\": \"Foundry project MSI foundry-proj-yw-uno-resource/foundry-proj-yw-uno doesn't have appropriate permissions on the storage account stacctaievalywuno\",\n    \"messageFormat\": \"Foundry project MSI {foundryAccountName}/{projectName} doesn't have appropriate permissions on the storage account {storageAccount}\",\n    \"messageParameters\": {\n      \"foundryAccountName\": \"foundry-proj-yw-uno-resource\",\n      \"projectName\": \"foundry-proj-yw-uno\",\n      \"storageAccount\": \"stacctaievalywuno\"\n    },\n    \"referenceCode\": null,\n    \"detailsUri\": null,\n    \"target\": null,\n    \"details\": [],\n    \"innerError\": {\n      \"code\": \"Auth\",\n      \"innerError\": {\n        \"code\": \"Authorization\",\n        \"innerError\": {\n          \"code\": \"ResourceMsiTokenDoesntHavePermissionsOnStorage\",\n          \"innerError\": null\n        }\n      }\n    },\n    \"debugInfo\": null,\n    \"additionalInfo\": null\n  },\n  \"correlation\": {\n    \"operation\": \"3f653d38e38bbef897565c5f7062a321\",\n    \"request\": \"fd80f39245439ad8\"\n  },\n  \"environment\": \"eastus2\",\n  \"location\": \"eastus2\",\n  \"time\": \"2025-06-24T22:35:14.705557+00:00\",\n  \"componentName\": \"assetstore\",\n  \"statusCode\": 403\n}"
     ]
    }
   ],
   "source": [
    "print(\"Upload a single file and create a new Dataset to reference the file.\")\n",
    "dataset_name = \"tourist-test-dataset\"\n",
    "dataset_version = \"1.0\"\n",
    "# dataset: DatasetVersion = project_client.datasets.upload_file(\n",
    "#     name=dataset_name,\n",
    "#     version=dataset_version,\n",
    "#     file_path=data_file,\n",
    "# )\n",
    "\n",
    "# stacctaievalywuno \"storage account contributor\" \n",
    "dataset: DatasetVersion = project_client.datasets.upload_file(\n",
    "    name=dataset_name,\n",
    "    version=dataset_version,\n",
    "    file_path=data_file,\n",
    "    connection_name=\"\"\n",
    ")\n",
    "print(dataset)"
   ]
  },
  {
   "cell_type": "markdown",
   "metadata": {},
   "source": [
    "### Agent Evaluation"
   ]
  },
  {
   "cell_type": "code",
   "execution_count": 17,
   "metadata": {},
   "outputs": [],
   "source": [
    "agent_evaluation_request = AgentEvaluationRequest(\n",
    "    run_id=run_id,\n",
    "    thread_id=thread_id,\n",
    "    evaluators={\n",
    "        \"violence\": EvaluatorConfiguration(id=EvaluatorIds.VIOLENCE),\n",
    "    },\n",
    "    sampling_configuration=AgentEvaluationSamplingConfiguration(\n",
    "        name=\"test\",\n",
    "        sampling_percent=100,\n",
    "        max_request_rate=100,\n",
    "    ),\n",
    "    redaction_configuration=AgentEvaluationRedactionConfiguration(\n",
    "        redact_score_properties=False,\n",
    "    ),\n",
    "    app_insights_connection_string=project_client.telemetry.get_connection_string(),\n",
    ")\n",
    "\n",
    "agent_evaluation_response = project_client.evaluations.create_agent_evaluation(\n",
    "    evaluation=agent_evaluation_request,\n",
    ")"
   ]
  },
  {
   "cell_type": "code",
   "execution_count": 19,
   "metadata": {},
   "outputs": [
    {
     "name": "stdout",
     "output_type": "stream",
     "text": [
      "{'id': 'thread_d4RuEKjvDHrKD0p5cejv97gC;run_wgW3TkmXHGI99wDH3Riq8cyU', 'status': 'Running', 'result': None, 'error': None}\n"
     ]
    }
   ],
   "source": [
    "print(agent_evaluation_response)"
   ]
  },
  {
   "cell_type": "markdown",
   "metadata": {},
   "source": [
    "### Run PromptFlow Evaluator"
   ]
  },
  {
   "cell_type": "code",
   "execution_count": null,
   "metadata": {},
   "outputs": [],
   "source": [
    "# from azure.ai.evaluation import evaluate\n",
    "\n",
    "# response = evaluate(\n",
    "#     data=file_name,\n",
    "#     evaluators={\n",
    "#         \"tool_call_accuracy\": tool_call_accuracy,\n",
    "#         \"intent_resolution\": intent_resolution,\n",
    "#         \"task_adherence\": task_adherence,\n",
    "#     },\n",
    "    \n",
    "#     azure_ai_project={\n",
    "#         \"subscription_id\": settings.azure_subscription_id,\n",
    "#         \"project_name\": settings.project_name,\n",
    "#         \"resource_group_name\": settings.resource_group_name,\n",
    "#     },\n",
    "# )\n",
    "# pprint(f'AI Foundary URL: {response.get(\"studio_url\")}')"
   ]
  },
  {
   "cell_type": "markdown",
   "metadata": {},
   "source": [
    "## Inspect results on Azure AI Foundry\n",
    "\n",
    "Go to AI Foundry URL for rich Azure AI Foundry data visualization to inspect the evaluation scores and reasoning to quickly identify bugs and issues of your agent to fix and improve."
   ]
  },
  {
   "cell_type": "code",
   "execution_count": null,
   "metadata": {},
   "outputs": [],
   "source": [
    "# alternatively, you can use the following to get the evaluation results in memory\n",
    "\n",
    "# average scores across all runs\n",
    "pprint(response[\"metrics\"])"
   ]
  }
 ],
 "metadata": {
  "kernelspec": {
   "display_name": "azfdyagents3.12pip",
   "language": "python",
   "name": "python3"
  },
  "language_info": {
   "codemirror_mode": {
    "name": "ipython",
    "version": 3
   },
   "file_extension": ".py",
   "mimetype": "text/x-python",
   "name": "python",
   "nbconvert_exporter": "python",
   "pygments_lexer": "ipython3",
   "version": "3.12.10"
  }
 },
 "nbformat": 4,
 "nbformat_minor": 2
}
