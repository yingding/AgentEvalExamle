{
 "cells": [
  {
   "cell_type": "markdown",
   "metadata": {},
   "source": [
    "# AI Red Teaming Agent in AI Foundry Project V2\n",
    "\n",
    "## Objective\n",
    "This notebook walks through how to use Azure AI Evaluation's AI Red Teaming Agent functionality to assess the safety and resilience of AI systems against adversarial prompt attacks. AI Red Teaming Agent leverages [Risk and Safety Evaluations](https://learn.microsoft.com/en-us/azure/ai-foundry/concepts/evaluation-metrics-built-in?tabs=warning#risk-and-safety-evaluators) to help identify potential safety issues across different risk categories (violence, hate/unfairness, sexual content, self-harm) combined with attack strategies of varying complexity levels from [PyRIT](https://github.com/Azure/PyRIT), Microsoft AI Red Teaming team's open framework for automated AI red teaming.\n",
    "\n",
    "## Before you begin\n",
    "\n",
    "<!--\n",
    "### Prerequisite\n",
    "First, if you have an Azure subscription, [create an Azure AI project](https://learn.microsoft.com/en-us/azure/ai-studio/concepts/ai-resources). AI projects and Hubs can be served within a private network and are compatible with private endpoints. You **do not** need to provide your own LLM deployment as the AI Red Teaming Agent hosts adversarial models for both simulation and evaluation of harmful content and connects to it via your Azure AI project.\n",
    "-->\n",
    "\n",
    "**Note**: In order to upload your results to Azure AI Foundry, you must have the `Storage Blob Data Contributor` role\n",
    "\n",
    "\n",
    "**Important**: First, ensure that you've installed the [Azure CLI](https://learn.microsoft.com/en-us/cli/azure/install-azure-cli) and then make sure to authenticate to Azure using `az login` in your terminal before running this notebook."
   ]
  },
  {
   "cell_type": "markdown",
   "metadata": {},
   "source": [
    "### Load Credentials"
   ]
  },
  {
   "cell_type": "code",
   "execution_count": 1,
   "metadata": {},
   "outputs": [
    {
     "name": "stdout",
     "output_type": "stream",
     "text": [
      "Environment and authentication OK\n"
     ]
    }
   ],
   "source": [
    "from dotenv import load_dotenv\n",
    "\n",
    "# load environment variables from .env file\n",
    "load_dotenv(dotenv_path=\".env_eastus2\", override=True)\n",
    "# load_dotenv(dotenv_path=\".env_uaenorth\", override=True)\n",
    "\n",
    "from utils.fdyauth import AuthHelper\n",
    "settings = AuthHelper.load_settings()\n",
    "credential = AuthHelper.test_credential()\n",
    "\n",
    "if credential:\n",
    "    print('Environment and authentication OK')\n",
    "else:\n",
    "    print(\"please login first\")"
   ]
  },
  {
   "cell_type": "code",
   "execution_count": 2,
   "metadata": {},
   "outputs": [],
   "source": [
    "from typing import Optional, Dict, Any\n",
    "import os\n",
    "\n",
    "from azure.ai.projects.models import (\n",
    "    RedTeam,\n",
    "    AzureOpenAIModelConfiguration,\n",
    "    AttackStrategy,\n",
    "    RiskCategory,\n",
    ")"
   ]
  },
  {
   "cell_type": "code",
   "execution_count": 3,
   "metadata": {},
   "outputs": [],
   "source": [
    "\n",
    "# Azure OpenAI deployment information\n",
    "azure_openai_deployment = settings.model_deployment_name  # e.g., \"gpt-4.1-mini\"\n",
    "azure_openai_endpoint = settings.azure_openai_endpoint # e.g., \"https://<account_name>.cognitiveservices.azure.com/\"\n",
    "azure_openai_api_key = settings.azure_openai_api_key  # e.g., \"your-api-key\"\n",
    "azure_openai_api_version = settings.azure_openai_api_version  # Use the latest API version"
   ]
  },
  {
   "cell_type": "markdown",
   "metadata": {},
   "source": [
    "## Understanding AI Red Teaming Agent's capabilities\n",
    "\n",
    "The Azure AI Evaluation SDK's `RedTeam` functionality evaluates AI systems against adversarial prompts across multiple dimensions:\n",
    "\n",
    "1. **Risk Categories**: Different content risk categories your AI system might generate\n",
    "   - Violence\n",
    "   - HateUnfairness\n",
    "   - Sexual\n",
    "   - SelfHarm\n",
    "\n",
    "2. **Attack Strategies**: Along with standard unmodified prompts which are sent by default as the `baseline`, you can specify different transformations of prompts to elicit undesired content.\n",
    "You can also use `AttackStrategy.Compose()` to layer two strategies in one attack\n",
    "   - AnsiAttack: Using ANSI escape codes in prompts\n",
    "   - AsciiArt: Using ASCII art to disguise harmful content\n",
    "   - AsciiSmuggler: Hiding harmful content within ASCII characters\n",
    "   - Atbash: Using the Atbash cipher to encode harmful requests\n",
    "   - Base64: Encoding harmful content in Base64 format\n",
    "   - Binary: Converting text to binary to bypass filters\n",
    "   - Caesar: Using the Caesar cipher for encoding\n",
    "   - CharacterSpace: Manipulating character spacing to confuse filters\n",
    "   - CharSwap: Swapping characters to bypass detection\n",
    "   - Diacritic: Using diacritical marks to alter text appearance\n",
    "   - Flip: Flipping text to bypass content filters\n",
    "   - Leetspeak: Converting letters to numbers and symbols\n",
    "   - Morse: Using Morse code to encode harmful requests\n",
    "   - ROT13: Using ROT13 cipher for text transformation\n",
    "   - SuffixAppend: Adding suffixes to confuse detection systems\n",
    "   - StringJoin: Joining strings in unconventional ways\n",
    "   - Tense: Changing the tense of harmful requests to past tense\n",
    "   - UnicodeConfusable: Using similar-looking Unicode characters\n",
    "   - UnicodeSubstitution: Substituting characters with Unicode alternatives\n",
    "   - Url: Embedding harmful content within URLs\n",
    "   - Jailbreak: Specially crafted prompts to bypass AI safeguards\n",
    "\n",
    "3. **Complexity Levels**: Different difficultly levels of attacks\n",
    "   - Baseline: Standard functionality tests\n",
    "   - Easy: Simple attack patterns\n",
    "   - Moderate: More sophisticated attacks\n",
    "   - Difficult: Complex, layered attack strategies\n",
    "\n",
    "The key metric for evaluating results is the **Attack Success Rate (ASR)**, which measures the percentage of attacks that successfully elicit harmful content from your AI system."
   ]
  },
  {
   "cell_type": "code",
   "execution_count": 4,
   "metadata": {},
   "outputs": [
    {
     "name": "stdout",
     "output_type": "stream",
     "text": [
      "project client api version: 2025-05-15-preview\n",
      "azure-ai-agents version: 1.1.0b4\n",
      "azure-ai-projects version: 1.0.0b12\n"
     ]
    }
   ],
   "source": [
    "# Create and run the Red Team scan\n",
    "from azure.ai.projects import AIProjectClient\n",
    "import azure.ai.agents as agentslib\n",
    "import azure.ai.projects as projectslib\n",
    "\n",
    "# Initialize the AIProjectClient with the credential\n",
    "project_client = AIProjectClient(\n",
    "    endpoint=settings.azure_openai_endpoint,\n",
    "    credential=credential,\n",
    "    # api_version=\"latest\",\n",
    ")\n",
    "\n",
    "print(f\"project client api version: {project_client._config.api_version}\")\n",
    "print(f\"azure-ai-agents version: {agentslib.__version__}\")\n",
    "print(f\"azure-ai-projects version: {projectslib.__version__}\")"
   ]
  },
  {
   "cell_type": "code",
   "execution_count": 5,
   "metadata": {},
   "outputs": [
    {
     "name": "stdout",
     "output_type": "stream",
     "text": [
      "Creating a Red Team scan for direct model testing\n"
     ]
    }
   ],
   "source": [
    "print(\"Creating a Red Team scan for direct model testing\")\n",
    "\n",
    "# create target configuration for testing an Azure OpenAI model\n",
    "target_configuration = AzureOpenAIModelConfiguration(\n",
    "    model_deployment_name=azure_openai_deployment,\n",
    ")\n",
    "\n",
    "# Create a Red Team confguration\n",
    "red_team = RedTeam(\n",
    "    attack_strategies=[AttackStrategy.BASE64],\n",
    "    risk_categories=[RiskCategory.VIOLENCE],\n",
    "    display_name=\"redteamtest1\",\n",
    "    target=target_configuration,\n",
    ")"
   ]
  },
  {
   "cell_type": "code",
   "execution_count": 6,
   "metadata": {},
   "outputs": [
    {
     "ename": "ResourceNotFoundError",
     "evalue": "(404) Resource not found\nCode: 404\nMessage: Resource not found",
     "output_type": "error",
     "traceback": [
      "\u001b[31m---------------------------------------------------------------------------\u001b[39m",
      "\u001b[31mResourceNotFoundError\u001b[39m                     Traceback (most recent call last)",
      "\u001b[36mCell\u001b[39m\u001b[36m \u001b[39m\u001b[32mIn[6]\u001b[39m\u001b[32m, line 1\u001b[39m\n\u001b[32m----> \u001b[39m\u001b[32m1\u001b[39m red_team_response: RedTeam = \u001b[43mproject_client\u001b[49m\u001b[43m.\u001b[49m\u001b[43mred_teams\u001b[49m\u001b[43m.\u001b[49m\u001b[43mcreate\u001b[49m\u001b[43m(\u001b[49m\n\u001b[32m      2\u001b[39m \u001b[43m    \u001b[49m\u001b[43mred_team\u001b[49m\u001b[43m,\u001b[49m\n\u001b[32m      3\u001b[39m \u001b[43m    \u001b[49m\u001b[43mheaders\u001b[49m\u001b[43m=\u001b[49m\u001b[43m{\u001b[49m\n\u001b[32m      4\u001b[39m \u001b[43m        \u001b[49m\u001b[33;43m\"\u001b[39;49m\u001b[33;43mmodel-endpoint\u001b[39;49m\u001b[33;43m\"\u001b[39;49m\u001b[43m:\u001b[49m\u001b[43m \u001b[49m\u001b[43mazure_openai_endpoint\u001b[49m\u001b[43m,\u001b[49m\n\u001b[32m      5\u001b[39m \u001b[43m        \u001b[49m\u001b[38;5;66;43;03m# \"api-key\": azure_openai_api_key,\u001b[39;49;00m\n\u001b[32m      6\u001b[39m \u001b[43m        \u001b[49m\u001b[33;43m\"\u001b[39;49m\u001b[33;43mmodel-api-key\u001b[39;49m\u001b[33;43m\"\u001b[39;49m\u001b[43m:\u001b[49m\u001b[43m \u001b[49m\u001b[43mazure_openai_api_key\u001b[49m\u001b[43m,\u001b[49m\n\u001b[32m      7\u001b[39m \u001b[43m    \u001b[49m\u001b[43m}\u001b[49m\u001b[43m,\u001b[49m\n\u001b[32m      8\u001b[39m \u001b[43m)\u001b[49m\n\u001b[32m     11\u001b[39m \u001b[38;5;28mprint\u001b[39m(red_team_response)\n",
      "\u001b[36mFile \u001b[39m\u001b[32mc:\\Users\\yingdingwang\\Documents\\VENV\\azfdyagents3.12pip\\Lib\\site-packages\\azure\\core\\tracing\\decorator.py:119\u001b[39m, in \u001b[36mdistributed_trace.<locals>.decorator.<locals>.wrapper_use_tracer\u001b[39m\u001b[34m(*args, **kwargs)\u001b[39m\n\u001b[32m    117\u001b[39m \u001b[38;5;66;03m# If tracing is disabled globally and user didn't explicitly enable it, don't trace.\u001b[39;00m\n\u001b[32m    118\u001b[39m \u001b[38;5;28;01mif\u001b[39;00m user_enabled \u001b[38;5;129;01mis\u001b[39;00m \u001b[38;5;28;01mFalse\u001b[39;00m \u001b[38;5;129;01mor\u001b[39;00m (\u001b[38;5;129;01mnot\u001b[39;00m tracing_enabled \u001b[38;5;129;01mand\u001b[39;00m user_enabled \u001b[38;5;129;01mis\u001b[39;00m \u001b[38;5;28;01mNone\u001b[39;00m):\n\u001b[32m--> \u001b[39m\u001b[32m119\u001b[39m     \u001b[38;5;28;01mreturn\u001b[39;00m \u001b[43mfunc\u001b[49m\u001b[43m(\u001b[49m\u001b[43m*\u001b[49m\u001b[43margs\u001b[49m\u001b[43m,\u001b[49m\u001b[43m \u001b[49m\u001b[43m*\u001b[49m\u001b[43m*\u001b[49m\u001b[43mkwargs\u001b[49m\u001b[43m)\u001b[49m\n\u001b[32m    121\u001b[39m \u001b[38;5;66;03m# Merge span is parameter is set, but only if no explicit parent are passed\u001b[39;00m\n\u001b[32m    122\u001b[39m \u001b[38;5;28;01mif\u001b[39;00m merge_span \u001b[38;5;129;01mand\u001b[39;00m \u001b[38;5;129;01mnot\u001b[39;00m passed_in_parent:\n",
      "\u001b[36mFile \u001b[39m\u001b[32mc:\\Users\\yingdingwang\\Documents\\VENV\\azfdyagents3.12pip\\Lib\\site-packages\\azure\\ai\\projects\\_validation.py:46\u001b[39m, in \u001b[36mapi_version_validation.<locals>.decorator.<locals>.wrapper\u001b[39m\u001b[34m(*args, **kwargs)\u001b[39m\n\u001b[32m     36\u001b[39m \u001b[38;5;28;01mif\u001b[39;00m unsupported:\n\u001b[32m     37\u001b[39m     \u001b[38;5;28;01mraise\u001b[39;00m \u001b[38;5;167;01mValueError\u001b[39;00m(\n\u001b[32m     38\u001b[39m         \u001b[33m\"\u001b[39m\u001b[33m\"\u001b[39m.join(\n\u001b[32m     39\u001b[39m             [\n\u001b[32m   (...)\u001b[39m\u001b[32m     44\u001b[39m         )\n\u001b[32m     45\u001b[39m     )\n\u001b[32m---> \u001b[39m\u001b[32m46\u001b[39m \u001b[38;5;28;01mreturn\u001b[39;00m \u001b[43mfunc\u001b[49m\u001b[43m(\u001b[49m\u001b[43m*\u001b[49m\u001b[43margs\u001b[49m\u001b[43m,\u001b[49m\u001b[43m \u001b[49m\u001b[43m*\u001b[49m\u001b[43m*\u001b[49m\u001b[43mkwargs\u001b[49m\u001b[43m)\u001b[49m\n",
      "\u001b[36mFile \u001b[39m\u001b[32mc:\\Users\\yingdingwang\\Documents\\VENV\\azfdyagents3.12pip\\Lib\\site-packages\\azure\\ai\\projects\\operations\\_operations.py:2876\u001b[39m, in \u001b[36mRedTeamsOperations.create\u001b[39m\u001b[34m(self, red_team, **kwargs)\u001b[39m\n\u001b[32m   2874\u001b[39m         \u001b[38;5;28;01mexcept\u001b[39;00m (StreamConsumedError, StreamClosedError):\n\u001b[32m   2875\u001b[39m             \u001b[38;5;28;01mpass\u001b[39;00m\n\u001b[32m-> \u001b[39m\u001b[32m2876\u001b[39m     \u001b[43mmap_error\u001b[49m\u001b[43m(\u001b[49m\u001b[43mstatus_code\u001b[49m\u001b[43m=\u001b[49m\u001b[43mresponse\u001b[49m\u001b[43m.\u001b[49m\u001b[43mstatus_code\u001b[49m\u001b[43m,\u001b[49m\u001b[43m \u001b[49m\u001b[43mresponse\u001b[49m\u001b[43m=\u001b[49m\u001b[43mresponse\u001b[49m\u001b[43m,\u001b[49m\u001b[43m \u001b[49m\u001b[43merror_map\u001b[49m\u001b[43m=\u001b[49m\u001b[43merror_map\u001b[49m\u001b[43m)\u001b[49m\n\u001b[32m   2877\u001b[39m     \u001b[38;5;28;01mraise\u001b[39;00m HttpResponseError(response=response)\n\u001b[32m   2879\u001b[39m \u001b[38;5;28;01mif\u001b[39;00m _stream:\n",
      "\u001b[36mFile \u001b[39m\u001b[32mc:\\Users\\yingdingwang\\Documents\\VENV\\azfdyagents3.12pip\\Lib\\site-packages\\azure\\core\\exceptions.py:163\u001b[39m, in \u001b[36mmap_error\u001b[39m\u001b[34m(status_code, response, error_map)\u001b[39m\n\u001b[32m    161\u001b[39m     \u001b[38;5;28;01mreturn\u001b[39;00m\n\u001b[32m    162\u001b[39m error = error_type(response=response)\n\u001b[32m--> \u001b[39m\u001b[32m163\u001b[39m \u001b[38;5;28;01mraise\u001b[39;00m error\n",
      "\u001b[31mResourceNotFoundError\u001b[39m: (404) Resource not found\nCode: 404\nMessage: Resource not found"
     ]
    }
   ],
   "source": [
    "red_team_response: RedTeam = project_client.red_teams.create(\n",
    "    red_team,\n",
    "    headers={\n",
    "        \"model-endpoint\": azure_openai_endpoint,\n",
    "        # \"api-key\": azure_openai_api_key,\n",
    "        \"model-api-key\": azure_openai_api_key,\n",
    "    },\n",
    ")\n",
    "\n",
    "\n",
    "print(red_team_response)\n"
   ]
  },
  {
   "cell_type": "code",
   "execution_count": null,
   "metadata": {},
   "outputs": [
    {
     "ename": "",
     "evalue": "",
     "output_type": "error",
     "traceback": [
      "\u001b[1;31mnotebook controller is DISPOSED. \n",
      "\u001b[1;31mView Jupyter <a href='command:jupyter.viewOutput'>log</a> for further details."
     ]
    }
   ],
   "source": [
    "print(\"Getting Red Team scan details\")\n",
    "# Use the name returned by the create operation for the get call\n",
    "get_red_team_response = project_client.red_teams.get(name=red_team_response.name)\n",
    "print(f\"Red Team scan status: {get_red_team_response.status}\")\n",
    "\n",
    "print(\"Listing all Red Team scans\")\n",
    "for scan in project_client.red_teams.list():\n",
    "    print(f\"Found scan: {scan.name}, Status: {scan.status}\")"
   ]
  }
 ],
 "metadata": {
  "kernelspec": {
   "display_name": "azfdyagents3.12pip",
   "language": "python",
   "name": "python3"
  },
  "language_info": {
   "codemirror_mode": {
    "name": "ipython",
    "version": 3
   },
   "file_extension": ".py",
   "mimetype": "text/x-python",
   "name": "python",
   "nbconvert_exporter": "python",
   "pygments_lexer": "ipython3",
   "version": "3.12.10"
  }
 },
 "nbformat": 4,
 "nbformat_minor": 2
}
